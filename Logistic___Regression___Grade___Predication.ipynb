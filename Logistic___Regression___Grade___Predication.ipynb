{
 "cells": [
  {
   "cell_type": "code",
   "execution_count": 1,
   "metadata": {
    "ExecuteTime": {
     "end_time": "2020-06-01T06:17:31.418410Z",
     "start_time": "2020-06-01T06:17:22.529431Z"
    }
   },
   "outputs": [
    {
     "name": "stdout",
     "output_type": "stream",
     "text": [
      "File Saved\n"
     ]
    }
   ],
   "source": [
    "import requests\n",
    "try:\n",
    "    data = requests.get('https://people.sc.fsu.edu/~jburkardt/data/csv/grades.csv').text\n",
    "    print('File Saved')\n",
    "except Exception as E:\n",
    "    print('Please Check You WiFi Connection')\n",
    "file = open('test.csv', 'w')\n",
    "file.write(data)\n",
    "file.close()"
   ]
  },
  {
   "cell_type": "markdown",
   "metadata": {},
   "source": [
    "### Download Data from\n",
    "## https://people.sc.fsu.edu/~jburkardt/data/csv/grades.csv"
   ]
  },
  {
   "cell_type": "markdown",
   "metadata": {},
   "source": [
    "# Import Libs"
   ]
  },
  {
   "cell_type": "code",
   "execution_count": 2,
   "metadata": {
    "ExecuteTime": {
     "end_time": "2020-06-01T06:17:31.768441Z",
     "start_time": "2020-06-01T06:17:31.421183Z"
    }
   },
   "outputs": [],
   "source": [
    "import pandas as pd\n",
    "from warnings import filterwarnings\n",
    "filterwarnings('ignore')"
   ]
  },
  {
   "cell_type": "markdown",
   "metadata": {},
   "source": [
    "# Read The Downloaded File"
   ]
  },
  {
   "cell_type": "code",
   "execution_count": 3,
   "metadata": {
    "ExecuteTime": {
     "end_time": "2020-06-01T06:17:31.777507Z",
     "start_time": "2020-06-01T06:17:31.770193Z"
    }
   },
   "outputs": [],
   "source": [
    "file = pd.read_csv('test.csv')"
   ]
  },
  {
   "cell_type": "markdown",
   "metadata": {},
   "source": [
    "# Print Top 4 Rows"
   ]
  },
  {
   "cell_type": "code",
   "execution_count": 4,
   "metadata": {
    "ExecuteTime": {
     "end_time": "2020-06-01T06:17:31.810475Z",
     "start_time": "2020-06-01T06:17:31.780447Z"
    }
   },
   "outputs": [
    {
     "data": {
      "text/html": [
       "<div>\n",
       "<style scoped>\n",
       "    .dataframe tbody tr th:only-of-type {\n",
       "        vertical-align: middle;\n",
       "    }\n",
       "\n",
       "    .dataframe tbody tr th {\n",
       "        vertical-align: top;\n",
       "    }\n",
       "\n",
       "    .dataframe thead th {\n",
       "        text-align: right;\n",
       "    }\n",
       "</style>\n",
       "<table border=\"1\" class=\"dataframe\">\n",
       "  <thead>\n",
       "    <tr style=\"text-align: right;\">\n",
       "      <th></th>\n",
       "      <th>Last name</th>\n",
       "      <th>\"First name\"</th>\n",
       "      <th>\"SSN\"</th>\n",
       "      <th>\"Test1\"</th>\n",
       "      <th>\"Test2\"</th>\n",
       "      <th>\"Test3\"</th>\n",
       "      <th>\"Test4\"</th>\n",
       "      <th>\"Final\"</th>\n",
       "      <th>\"Grade\"</th>\n",
       "    </tr>\n",
       "  </thead>\n",
       "  <tbody>\n",
       "    <tr>\n",
       "      <th>0</th>\n",
       "      <td>Alfalfa</td>\n",
       "      <td>\"Aloysius\"</td>\n",
       "      <td>\"123-45-6789\"</td>\n",
       "      <td>40.0</td>\n",
       "      <td>90.0</td>\n",
       "      <td>100.0</td>\n",
       "      <td>83.0</td>\n",
       "      <td>49.0</td>\n",
       "      <td>\"D-\"</td>\n",
       "    </tr>\n",
       "    <tr>\n",
       "      <th>1</th>\n",
       "      <td>Alfred</td>\n",
       "      <td>\"University\"</td>\n",
       "      <td>\"123-12-1234\"</td>\n",
       "      <td>41.0</td>\n",
       "      <td>97.0</td>\n",
       "      <td>96.0</td>\n",
       "      <td>97.0</td>\n",
       "      <td>48.0</td>\n",
       "      <td>\"D+\"</td>\n",
       "    </tr>\n",
       "    <tr>\n",
       "      <th>2</th>\n",
       "      <td>Gerty</td>\n",
       "      <td>\"Gramma\"</td>\n",
       "      <td>\"567-89-0123\"</td>\n",
       "      <td>41.0</td>\n",
       "      <td>80.0</td>\n",
       "      <td>60.0</td>\n",
       "      <td>40.0</td>\n",
       "      <td>44.0</td>\n",
       "      <td>\"C\"</td>\n",
       "    </tr>\n",
       "    <tr>\n",
       "      <th>3</th>\n",
       "      <td>Android</td>\n",
       "      <td>\"Electric\"</td>\n",
       "      <td>\"087-65-4321\"</td>\n",
       "      <td>42.0</td>\n",
       "      <td>23.0</td>\n",
       "      <td>36.0</td>\n",
       "      <td>45.0</td>\n",
       "      <td>47.0</td>\n",
       "      <td>\"B-\"</td>\n",
       "    </tr>\n",
       "  </tbody>\n",
       "</table>\n",
       "</div>"
      ],
      "text/plain": [
       "  Last name      \"First name\"               \"SSN\"         \"Test1\"   \"Test2\"  \\\n",
       "0   Alfalfa        \"Aloysius\"       \"123-45-6789\"            40.0      90.0   \n",
       "1    Alfred      \"University\"       \"123-12-1234\"            41.0      97.0   \n",
       "2     Gerty          \"Gramma\"       \"567-89-0123\"            41.0      80.0   \n",
       "3   Android        \"Electric\"       \"087-65-4321\"            42.0      23.0   \n",
       "\n",
       "    \"Test3\"   \"Test4\"   \"Final\"  \"Grade\"  \n",
       "0     100.0      83.0      49.0     \"D-\"  \n",
       "1      96.0      97.0      48.0     \"D+\"  \n",
       "2      60.0      40.0      44.0      \"C\"  \n",
       "3      36.0      45.0      47.0     \"B-\"  "
      ]
     },
     "execution_count": 4,
     "metadata": {},
     "output_type": "execute_result"
    }
   ],
   "source": [
    "file.head(4)"
   ]
  },
  {
   "cell_type": "markdown",
   "metadata": {},
   "source": [
    "# Check All Columns"
   ]
  },
  {
   "cell_type": "code",
   "execution_count": 5,
   "metadata": {
    "ExecuteTime": {
     "end_time": "2020-06-01T06:17:31.818139Z",
     "start_time": "2020-06-01T06:17:31.813317Z"
    }
   },
   "outputs": [
    {
     "data": {
      "text/plain": [
       "Index(['Last name', ' \"First name\"', ' \"SSN\"', '        \"Test1\"', ' \"Test2\"',\n",
       "       ' \"Test3\"', ' \"Test4\"', ' \"Final\"', ' \"Grade\"'],\n",
       "      dtype='object')"
      ]
     },
     "execution_count": 5,
     "metadata": {},
     "output_type": "execute_result"
    }
   ],
   "source": [
    "file.columns"
   ]
  },
  {
   "cell_type": "markdown",
   "metadata": {},
   "source": [
    "# Create A Fun that deals with whitespace and quotes(\")"
   ]
  },
  {
   "cell_type": "code",
   "execution_count": 6,
   "metadata": {
    "ExecuteTime": {
     "end_time": "2020-06-01T06:17:31.824090Z",
     "start_time": "2020-06-01T06:17:31.820069Z"
    }
   },
   "outputs": [],
   "source": [
    "def remove_space_and_quotes(x):\n",
    "    return x.replace('\"',\"\").replace(\" \",\"\")"
   ]
  },
  {
   "cell_type": "markdown",
   "metadata": {},
   "source": [
    "# Filter Column Name "
   ]
  },
  {
   "cell_type": "code",
   "execution_count": 7,
   "metadata": {
    "ExecuteTime": {
     "end_time": "2020-06-01T06:17:31.829974Z",
     "start_time": "2020-06-01T06:17:31.826589Z"
    }
   },
   "outputs": [],
   "source": [
    "file.columns = list(map(remove_space_and_quotes, file.columns))"
   ]
  },
  {
   "cell_type": "markdown",
   "metadata": {},
   "source": [
    "# Check Output"
   ]
  },
  {
   "cell_type": "code",
   "execution_count": 8,
   "metadata": {
    "ExecuteTime": {
     "end_time": "2020-06-01T06:17:31.845798Z",
     "start_time": "2020-06-01T06:17:31.832468Z"
    }
   },
   "outputs": [
    {
     "data": {
      "text/html": [
       "<div>\n",
       "<style scoped>\n",
       "    .dataframe tbody tr th:only-of-type {\n",
       "        vertical-align: middle;\n",
       "    }\n",
       "\n",
       "    .dataframe tbody tr th {\n",
       "        vertical-align: top;\n",
       "    }\n",
       "\n",
       "    .dataframe thead th {\n",
       "        text-align: right;\n",
       "    }\n",
       "</style>\n",
       "<table border=\"1\" class=\"dataframe\">\n",
       "  <thead>\n",
       "    <tr style=\"text-align: right;\">\n",
       "      <th></th>\n",
       "      <th>Lastname</th>\n",
       "      <th>Firstname</th>\n",
       "      <th>SSN</th>\n",
       "      <th>Test1</th>\n",
       "      <th>Test2</th>\n",
       "      <th>Test3</th>\n",
       "      <th>Test4</th>\n",
       "      <th>Final</th>\n",
       "      <th>Grade</th>\n",
       "    </tr>\n",
       "  </thead>\n",
       "  <tbody>\n",
       "    <tr>\n",
       "      <th>0</th>\n",
       "      <td>Alfalfa</td>\n",
       "      <td>\"Aloysius\"</td>\n",
       "      <td>\"123-45-6789\"</td>\n",
       "      <td>40.0</td>\n",
       "      <td>90.0</td>\n",
       "      <td>100.0</td>\n",
       "      <td>83.0</td>\n",
       "      <td>49.0</td>\n",
       "      <td>\"D-\"</td>\n",
       "    </tr>\n",
       "    <tr>\n",
       "      <th>1</th>\n",
       "      <td>Alfred</td>\n",
       "      <td>\"University\"</td>\n",
       "      <td>\"123-12-1234\"</td>\n",
       "      <td>41.0</td>\n",
       "      <td>97.0</td>\n",
       "      <td>96.0</td>\n",
       "      <td>97.0</td>\n",
       "      <td>48.0</td>\n",
       "      <td>\"D+\"</td>\n",
       "    </tr>\n",
       "  </tbody>\n",
       "</table>\n",
       "</div>"
      ],
      "text/plain": [
       "  Lastname         Firstname               SSN  Test1  Test2  Test3  Test4  \\\n",
       "0  Alfalfa        \"Aloysius\"     \"123-45-6789\"   40.0   90.0  100.0   83.0   \n",
       "1   Alfred      \"University\"     \"123-12-1234\"   41.0   97.0   96.0   97.0   \n",
       "\n",
       "      Final    Grade  \n",
       "0      49.0     \"D-\"  \n",
       "1      48.0     \"D+\"  "
      ]
     },
     "execution_count": 8,
     "metadata": {},
     "output_type": "execute_result"
    }
   ],
   "source": [
    "file.head(2)"
   ]
  },
  {
   "cell_type": "markdown",
   "metadata": {},
   "source": [
    "# Filter FirstName and remove Quote(\")"
   ]
  },
  {
   "cell_type": "code",
   "execution_count": 9,
   "metadata": {
    "ExecuteTime": {
     "end_time": "2020-06-01T06:17:31.854857Z",
     "start_time": "2020-06-01T06:17:31.849374Z"
    }
   },
   "outputs": [],
   "source": [
    "file['Firstname'] = list( map(remove_space_and_quotes,file['Firstname']))"
   ]
  },
  {
   "cell_type": "markdown",
   "metadata": {},
   "source": [
    "# We Can filter SSN Column and remove hypen(-)"
   ]
  },
  {
   "cell_type": "code",
   "execution_count": 10,
   "metadata": {
    "ExecuteTime": {
     "end_time": "2020-06-01T06:17:31.862477Z",
     "start_time": "2020-06-01T06:17:31.857995Z"
    }
   },
   "outputs": [],
   "source": [
    "file['SSN'] = list(\n",
    "    map(lambda x:int(x.replace('-',\"\").\n",
    "                     replace(' ',\"\").\n",
    "                      replace('\"',\"\")  )\n",
    "                        ,file['SSN']))"
   ]
  },
  {
   "cell_type": "code",
   "execution_count": 11,
   "metadata": {
    "ExecuteTime": {
     "end_time": "2020-06-01T06:17:31.887396Z",
     "start_time": "2020-06-01T06:17:31.864239Z"
    }
   },
   "outputs": [
    {
     "data": {
      "text/html": [
       "<div>\n",
       "<style scoped>\n",
       "    .dataframe tbody tr th:only-of-type {\n",
       "        vertical-align: middle;\n",
       "    }\n",
       "\n",
       "    .dataframe tbody tr th {\n",
       "        vertical-align: top;\n",
       "    }\n",
       "\n",
       "    .dataframe thead th {\n",
       "        text-align: right;\n",
       "    }\n",
       "</style>\n",
       "<table border=\"1\" class=\"dataframe\">\n",
       "  <thead>\n",
       "    <tr style=\"text-align: right;\">\n",
       "      <th></th>\n",
       "      <th>Lastname</th>\n",
       "      <th>Firstname</th>\n",
       "      <th>SSN</th>\n",
       "      <th>Test1</th>\n",
       "      <th>Test2</th>\n",
       "      <th>Test3</th>\n",
       "      <th>Test4</th>\n",
       "      <th>Final</th>\n",
       "      <th>Grade</th>\n",
       "    </tr>\n",
       "  </thead>\n",
       "  <tbody>\n",
       "    <tr>\n",
       "      <th>0</th>\n",
       "      <td>Alfalfa</td>\n",
       "      <td>Aloysius</td>\n",
       "      <td>123456789</td>\n",
       "      <td>40.0</td>\n",
       "      <td>90.0</td>\n",
       "      <td>100.0</td>\n",
       "      <td>83.0</td>\n",
       "      <td>49.0</td>\n",
       "      <td>\"D-\"</td>\n",
       "    </tr>\n",
       "    <tr>\n",
       "      <th>1</th>\n",
       "      <td>Alfred</td>\n",
       "      <td>University</td>\n",
       "      <td>123121234</td>\n",
       "      <td>41.0</td>\n",
       "      <td>97.0</td>\n",
       "      <td>96.0</td>\n",
       "      <td>97.0</td>\n",
       "      <td>48.0</td>\n",
       "      <td>\"D+\"</td>\n",
       "    </tr>\n",
       "    <tr>\n",
       "      <th>2</th>\n",
       "      <td>Gerty</td>\n",
       "      <td>Gramma</td>\n",
       "      <td>567890123</td>\n",
       "      <td>41.0</td>\n",
       "      <td>80.0</td>\n",
       "      <td>60.0</td>\n",
       "      <td>40.0</td>\n",
       "      <td>44.0</td>\n",
       "      <td>\"C\"</td>\n",
       "    </tr>\n",
       "    <tr>\n",
       "      <th>3</th>\n",
       "      <td>Android</td>\n",
       "      <td>Electric</td>\n",
       "      <td>87654321</td>\n",
       "      <td>42.0</td>\n",
       "      <td>23.0</td>\n",
       "      <td>36.0</td>\n",
       "      <td>45.0</td>\n",
       "      <td>47.0</td>\n",
       "      <td>\"B-\"</td>\n",
       "    </tr>\n",
       "  </tbody>\n",
       "</table>\n",
       "</div>"
      ],
      "text/plain": [
       "  Lastname   Firstname        SSN  Test1  Test2  Test3  Test4     Final  \\\n",
       "0  Alfalfa    Aloysius  123456789   40.0   90.0  100.0   83.0      49.0   \n",
       "1   Alfred  University  123121234   41.0   97.0   96.0   97.0      48.0   \n",
       "2    Gerty      Gramma  567890123   41.0   80.0   60.0   40.0      44.0   \n",
       "3  Android    Electric   87654321   42.0   23.0   36.0   45.0      47.0   \n",
       "\n",
       "     Grade  \n",
       "0     \"D-\"  \n",
       "1     \"D+\"  \n",
       "2      \"C\"  \n",
       "3     \"B-\"  "
      ]
     },
     "execution_count": 11,
     "metadata": {},
     "output_type": "execute_result"
    }
   ],
   "source": [
    "file.head(4)"
   ]
  },
  {
   "cell_type": "markdown",
   "metadata": {},
   "source": [
    "# Drop SSN, We Don't need this in Prediction"
   ]
  },
  {
   "cell_type": "code",
   "execution_count": 12,
   "metadata": {
    "ExecuteTime": {
     "end_time": "2020-06-01T06:17:31.897275Z",
     "start_time": "2020-06-01T06:17:31.890914Z"
    }
   },
   "outputs": [],
   "source": [
    "file.drop(['SSN'], axis=1, inplace=True)"
   ]
  },
  {
   "cell_type": "markdown",
   "metadata": {},
   "source": [
    "# Drop Any Null Value if Exist"
   ]
  },
  {
   "cell_type": "code",
   "execution_count": 13,
   "metadata": {
    "ExecuteTime": {
     "end_time": "2020-06-01T06:17:31.904801Z",
     "start_time": "2020-06-01T06:17:31.899327Z"
    }
   },
   "outputs": [],
   "source": [
    "file.dropna(inplace=True)"
   ]
  },
  {
   "cell_type": "markdown",
   "metadata": {},
   "source": [
    "# Importing Label Encoder for Encoding Grade"
   ]
  },
  {
   "cell_type": "code",
   "execution_count": 14,
   "metadata": {
    "ExecuteTime": {
     "end_time": "2020-06-01T06:17:32.165712Z",
     "start_time": "2020-06-01T06:17:31.907391Z"
    }
   },
   "outputs": [],
   "source": [
    "from sklearn.preprocessing import LabelEncoder"
   ]
  },
  {
   "cell_type": "markdown",
   "metadata": {},
   "source": [
    "# Create Object of LabelEncoder Class"
   ]
  },
  {
   "cell_type": "code",
   "execution_count": 15,
   "metadata": {
    "ExecuteTime": {
     "end_time": "2020-06-01T06:17:32.170791Z",
     "start_time": "2020-06-01T06:17:32.167580Z"
    }
   },
   "outputs": [],
   "source": [
    "encoder = LabelEncoder()"
   ]
  },
  {
   "cell_type": "markdown",
   "metadata": {},
   "source": [
    "# Filter Grade before Encoding"
   ]
  },
  {
   "cell_type": "code",
   "execution_count": 16,
   "metadata": {
    "ExecuteTime": {
     "end_time": "2020-06-01T06:17:32.179473Z",
     "start_time": "2020-06-01T06:17:32.174293Z"
    }
   },
   "outputs": [],
   "source": [
    "file['Grade'] = list(map(remove_space_and_quotes,file['Grade']))"
   ]
  },
  {
   "cell_type": "markdown",
   "metadata": {},
   "source": [
    "# Time to Encode Grade"
   ]
  },
  {
   "cell_type": "code",
   "execution_count": 17,
   "metadata": {
    "ExecuteTime": {
     "end_time": "2020-06-01T06:17:32.187627Z",
     "start_time": "2020-06-01T06:17:32.182006Z"
    }
   },
   "outputs": [],
   "source": [
    "file['Grade']  = encoder.fit_transform(file['Grade'])"
   ]
  },
  {
   "cell_type": "markdown",
   "metadata": {},
   "source": [
    "# Now Grade Converted to Numbers\n",
    "# Let's Print Grade"
   ]
  },
  {
   "cell_type": "code",
   "execution_count": 18,
   "metadata": {
    "ExecuteTime": {
     "end_time": "2020-06-01T06:17:32.199692Z",
     "start_time": "2020-06-01T06:17:32.192153Z"
    }
   },
   "outputs": [
    {
     "data": {
      "text/plain": [
       "0    9\n",
       "1    8\n",
       "2    5\n",
       "3    4\n",
       "4    1\n",
       "Name: Grade, dtype: int64"
      ]
     },
     "execution_count": 18,
     "metadata": {},
     "output_type": "execute_result"
    }
   ],
   "source": [
    "file['Grade'].head(5)"
   ]
  },
  {
   "cell_type": "markdown",
   "metadata": {},
   "source": [
    "# Here Comes the Regression \n",
    "## We Use Logistic Regresssion for Prediction Student Grade Bases On Test Marks"
   ]
  },
  {
   "cell_type": "code",
   "execution_count": 19,
   "metadata": {
    "ExecuteTime": {
     "end_time": "2020-06-01T06:17:32.237870Z",
     "start_time": "2020-06-01T06:17:32.201213Z"
    }
   },
   "outputs": [],
   "source": [
    "from sklearn.linear_model import LogisticRegression"
   ]
  },
  {
   "cell_type": "markdown",
   "metadata": {},
   "source": [
    "# Create Obj Of LogisticRegression Class"
   ]
  },
  {
   "cell_type": "code",
   "execution_count": 69,
   "metadata": {
    "ExecuteTime": {
     "end_time": "2020-06-01T06:30:43.979240Z",
     "start_time": "2020-06-01T06:30:43.969484Z"
    }
   },
   "outputs": [],
   "source": [
    "model = LogisticRegression(C=100)"
   ]
  },
  {
   "cell_type": "markdown",
   "metadata": {},
   "source": [
    "# Before Processing We need to check test Data-Type"
   ]
  },
  {
   "cell_type": "code",
   "execution_count": 70,
   "metadata": {
    "ExecuteTime": {
     "end_time": "2020-06-01T06:30:44.388100Z",
     "start_time": "2020-06-01T06:30:44.381737Z"
    }
   },
   "outputs": [
    {
     "data": {
      "text/plain": [
       "Lastname      object\n",
       "Firstname     object\n",
       "Test1        float64\n",
       "Test2        float64\n",
       "Test3        float64\n",
       "Test4        float64\n",
       "Final        float64\n",
       "Grade          int64\n",
       "dtype: object"
      ]
     },
     "execution_count": 70,
     "metadata": {},
     "output_type": "execute_result"
    }
   ],
   "source": [
    "file.dtypes"
   ]
  },
  {
   "cell_type": "markdown",
   "metadata": {},
   "source": [
    "# As We can See Some Test Result have Object Type \n",
    "## So we Need To Convert Them to Float"
   ]
  },
  {
   "cell_type": "code",
   "execution_count": 71,
   "metadata": {
    "ExecuteTime": {
     "end_time": "2020-06-01T06:30:44.915979Z",
     "start_time": "2020-06-01T06:30:44.900628Z"
    }
   },
   "outputs": [],
   "source": [
    "file['Test1'] = file['Test1'].astype('float')\n",
    "file['Test2'] = file['Test2'].astype('float')\n",
    "file['Test3'] = file['Test3'].astype('float')\n",
    "file['Test4'] = file['Test4'].astype('float')\n",
    "file['Final'] = file['Final'].astype('float')"
   ]
  },
  {
   "cell_type": "markdown",
   "metadata": {},
   "source": [
    "# Time To Seperate X and Y"
   ]
  },
  {
   "cell_type": "code",
   "execution_count": 72,
   "metadata": {
    "ExecuteTime": {
     "end_time": "2020-06-01T06:30:45.569168Z",
     "start_time": "2020-06-01T06:30:45.559655Z"
    }
   },
   "outputs": [],
   "source": [
    "X = file.values[:,3:-1]\n",
    "Y = file.values[:, -1].astype('int')"
   ]
  },
  {
   "cell_type": "markdown",
   "metadata": {},
   "source": [
    "# Finaly Train The Model"
   ]
  },
  {
   "cell_type": "code",
   "execution_count": 73,
   "metadata": {
    "ExecuteTime": {
     "end_time": "2020-06-01T06:30:46.364390Z",
     "start_time": "2020-06-01T06:30:46.313949Z"
    }
   },
   "outputs": [
    {
     "data": {
      "text/plain": [
       "LogisticRegression(C=100, class_weight=None, dual=False, fit_intercept=True,\n",
       "                   intercept_scaling=1, l1_ratio=None, max_iter=100,\n",
       "                   multi_class='auto', n_jobs=None, penalty='l2',\n",
       "                   random_state=None, solver='lbfgs', tol=0.0001, verbose=0,\n",
       "                   warm_start=False)"
      ]
     },
     "execution_count": 73,
     "metadata": {},
     "output_type": "execute_result"
    }
   ],
   "source": [
    "model.fit(X,Y)"
   ]
  },
  {
   "cell_type": "markdown",
   "metadata": {},
   "source": [
    "# Now we Check Accuracy Of Model"
   ]
  },
  {
   "cell_type": "code",
   "execution_count": 74,
   "metadata": {
    "ExecuteTime": {
     "end_time": "2020-06-01T06:30:47.220150Z",
     "start_time": "2020-06-01T06:30:47.206415Z"
    }
   },
   "outputs": [
    {
     "data": {
      "text/plain": [
       "0.9333333333333333"
      ]
     },
     "execution_count": 74,
     "metadata": {},
     "output_type": "execute_result"
    }
   ],
   "source": [
    "model.score(X,Y)"
   ]
  },
  {
   "cell_type": "markdown",
   "metadata": {},
   "source": [
    "# Predict Some Result"
   ]
  },
  {
   "cell_type": "code",
   "execution_count": 75,
   "metadata": {
    "ExecuteTime": {
     "end_time": "2020-06-01T06:30:50.158906Z",
     "start_time": "2020-06-01T06:30:50.140106Z"
    }
   },
   "outputs": [
    {
     "name": "stdout",
     "output_type": "stream",
     "text": [
      "Predicted \t9  \tActual \t9 \n",
      "Predicted \t8  \tActual \t8 \n",
      "Predicted \t5  \tActual \t5 \n",
      "Predicted \t4  \tActual \t4 \n",
      "Predicted \t1  \tActual \t1 \n",
      "Predicted \t7  \tActual \t7 \n",
      "Predicted \t10  \tActual \t10 \n",
      "Predicted \t3  \tActual \t3 \n",
      "Predicted \t4  \tActual \t0 <- Error \n",
      "Predicted \t8  \tActual \t8 \n",
      "Predicted \t6  \tActual \t6 \n",
      "Predicted \t4  \tActual \t4 \n",
      "Predicted \t4  \tActual \t4 \n",
      "Predicted \t2  \tActual \t2 \n",
      "Predicted \t5  \tActual \t5 \n"
     ]
    }
   ],
   "source": [
    "for x,y in zip(X,Y):\n",
    "    x = model.predict([x])[0]\n",
    "    print(f\"Predicted \\t{x}  \\tActual \\t{y} {'<- Error ' if x != y else ''}\")"
   ]
  },
  {
   "cell_type": "markdown",
   "metadata": {},
   "source": [
    "# Let's Plot"
   ]
  },
  {
   "cell_type": "code",
   "execution_count": 76,
   "metadata": {
    "ExecuteTime": {
     "end_time": "2020-06-01T06:30:50.604980Z",
     "start_time": "2020-06-01T06:30:50.595810Z"
    }
   },
   "outputs": [],
   "source": [
    "from matplotlib import pyplot as plt\n",
    "from mpl_toolkits.mplot3d import Axes3D\n",
    "plt.style.use('ggplot')\n",
    "%matplotlib notebook"
   ]
  },
  {
   "cell_type": "code",
   "execution_count": 77,
   "metadata": {
    "ExecuteTime": {
     "end_time": "2020-06-01T06:30:51.185660Z",
     "start_time": "2020-06-01T06:30:51.126044Z"
    }
   },
   "outputs": [
    {
     "data": {
      "application/javascript": [
       "/* Put everything inside the global mpl namespace */\n",
       "window.mpl = {};\n",
       "\n",
       "\n",
       "mpl.get_websocket_type = function() {\n",
       "    if (typeof(WebSocket) !== 'undefined') {\n",
       "        return WebSocket;\n",
       "    } else if (typeof(MozWebSocket) !== 'undefined') {\n",
       "        return MozWebSocket;\n",
       "    } else {\n",
       "        alert('Your browser does not have WebSocket support. ' +\n",
       "              'Please try Chrome, Safari or Firefox ≥ 6. ' +\n",
       "              'Firefox 4 and 5 are also supported but you ' +\n",
       "              'have to enable WebSockets in about:config.');\n",
       "    };\n",
       "}\n",
       "\n",
       "mpl.figure = function(figure_id, websocket, ondownload, parent_element) {\n",
       "    this.id = figure_id;\n",
       "\n",
       "    this.ws = websocket;\n",
       "\n",
       "    this.supports_binary = (this.ws.binaryType != undefined);\n",
       "\n",
       "    if (!this.supports_binary) {\n",
       "        var warnings = document.getElementById(\"mpl-warnings\");\n",
       "        if (warnings) {\n",
       "            warnings.style.display = 'block';\n",
       "            warnings.textContent = (\n",
       "                \"This browser does not support binary websocket messages. \" +\n",
       "                    \"Performance may be slow.\");\n",
       "        }\n",
       "    }\n",
       "\n",
       "    this.imageObj = new Image();\n",
       "\n",
       "    this.context = undefined;\n",
       "    this.message = undefined;\n",
       "    this.canvas = undefined;\n",
       "    this.rubberband_canvas = undefined;\n",
       "    this.rubberband_context = undefined;\n",
       "    this.format_dropdown = undefined;\n",
       "\n",
       "    this.image_mode = 'full';\n",
       "\n",
       "    this.root = $('<div/>');\n",
       "    this._root_extra_style(this.root)\n",
       "    this.root.attr('style', 'display: inline-block');\n",
       "\n",
       "    $(parent_element).append(this.root);\n",
       "\n",
       "    this._init_header(this);\n",
       "    this._init_canvas(this);\n",
       "    this._init_toolbar(this);\n",
       "\n",
       "    var fig = this;\n",
       "\n",
       "    this.waiting = false;\n",
       "\n",
       "    this.ws.onopen =  function () {\n",
       "            fig.send_message(\"supports_binary\", {value: fig.supports_binary});\n",
       "            fig.send_message(\"send_image_mode\", {});\n",
       "            if (mpl.ratio != 1) {\n",
       "                fig.send_message(\"set_dpi_ratio\", {'dpi_ratio': mpl.ratio});\n",
       "            }\n",
       "            fig.send_message(\"refresh\", {});\n",
       "        }\n",
       "\n",
       "    this.imageObj.onload = function() {\n",
       "            if (fig.image_mode == 'full') {\n",
       "                // Full images could contain transparency (where diff images\n",
       "                // almost always do), so we need to clear the canvas so that\n",
       "                // there is no ghosting.\n",
       "                fig.context.clearRect(0, 0, fig.canvas.width, fig.canvas.height);\n",
       "            }\n",
       "            fig.context.drawImage(fig.imageObj, 0, 0);\n",
       "        };\n",
       "\n",
       "    this.imageObj.onunload = function() {\n",
       "        fig.ws.close();\n",
       "    }\n",
       "\n",
       "    this.ws.onmessage = this._make_on_message_function(this);\n",
       "\n",
       "    this.ondownload = ondownload;\n",
       "}\n",
       "\n",
       "mpl.figure.prototype._init_header = function() {\n",
       "    var titlebar = $(\n",
       "        '<div class=\"ui-dialog-titlebar ui-widget-header ui-corner-all ' +\n",
       "        'ui-helper-clearfix\"/>');\n",
       "    var titletext = $(\n",
       "        '<div class=\"ui-dialog-title\" style=\"width: 100%; ' +\n",
       "        'text-align: center; padding: 3px;\"/>');\n",
       "    titlebar.append(titletext)\n",
       "    this.root.append(titlebar);\n",
       "    this.header = titletext[0];\n",
       "}\n",
       "\n",
       "\n",
       "\n",
       "mpl.figure.prototype._canvas_extra_style = function(canvas_div) {\n",
       "\n",
       "}\n",
       "\n",
       "\n",
       "mpl.figure.prototype._root_extra_style = function(canvas_div) {\n",
       "\n",
       "}\n",
       "\n",
       "mpl.figure.prototype._init_canvas = function() {\n",
       "    var fig = this;\n",
       "\n",
       "    var canvas_div = $('<div/>');\n",
       "\n",
       "    canvas_div.attr('style', 'position: relative; clear: both; outline: 0');\n",
       "\n",
       "    function canvas_keyboard_event(event) {\n",
       "        return fig.key_event(event, event['data']);\n",
       "    }\n",
       "\n",
       "    canvas_div.keydown('key_press', canvas_keyboard_event);\n",
       "    canvas_div.keyup('key_release', canvas_keyboard_event);\n",
       "    this.canvas_div = canvas_div\n",
       "    this._canvas_extra_style(canvas_div)\n",
       "    this.root.append(canvas_div);\n",
       "\n",
       "    var canvas = $('<canvas/>');\n",
       "    canvas.addClass('mpl-canvas');\n",
       "    canvas.attr('style', \"left: 0; top: 0; z-index: 0; outline: 0\")\n",
       "\n",
       "    this.canvas = canvas[0];\n",
       "    this.context = canvas[0].getContext(\"2d\");\n",
       "\n",
       "    var backingStore = this.context.backingStorePixelRatio ||\n",
       "\tthis.context.webkitBackingStorePixelRatio ||\n",
       "\tthis.context.mozBackingStorePixelRatio ||\n",
       "\tthis.context.msBackingStorePixelRatio ||\n",
       "\tthis.context.oBackingStorePixelRatio ||\n",
       "\tthis.context.backingStorePixelRatio || 1;\n",
       "\n",
       "    mpl.ratio = (window.devicePixelRatio || 1) / backingStore;\n",
       "\n",
       "    var rubberband = $('<canvas/>');\n",
       "    rubberband.attr('style', \"position: absolute; left: 0; top: 0; z-index: 1;\")\n",
       "\n",
       "    var pass_mouse_events = true;\n",
       "\n",
       "    canvas_div.resizable({\n",
       "        start: function(event, ui) {\n",
       "            pass_mouse_events = false;\n",
       "        },\n",
       "        resize: function(event, ui) {\n",
       "            fig.request_resize(ui.size.width, ui.size.height);\n",
       "        },\n",
       "        stop: function(event, ui) {\n",
       "            pass_mouse_events = true;\n",
       "            fig.request_resize(ui.size.width, ui.size.height);\n",
       "        },\n",
       "    });\n",
       "\n",
       "    function mouse_event_fn(event) {\n",
       "        if (pass_mouse_events)\n",
       "            return fig.mouse_event(event, event['data']);\n",
       "    }\n",
       "\n",
       "    rubberband.mousedown('button_press', mouse_event_fn);\n",
       "    rubberband.mouseup('button_release', mouse_event_fn);\n",
       "    // Throttle sequential mouse events to 1 every 20ms.\n",
       "    rubberband.mousemove('motion_notify', mouse_event_fn);\n",
       "\n",
       "    rubberband.mouseenter('figure_enter', mouse_event_fn);\n",
       "    rubberband.mouseleave('figure_leave', mouse_event_fn);\n",
       "\n",
       "    canvas_div.on(\"wheel\", function (event) {\n",
       "        event = event.originalEvent;\n",
       "        event['data'] = 'scroll'\n",
       "        if (event.deltaY < 0) {\n",
       "            event.step = 1;\n",
       "        } else {\n",
       "            event.step = -1;\n",
       "        }\n",
       "        mouse_event_fn(event);\n",
       "    });\n",
       "\n",
       "    canvas_div.append(canvas);\n",
       "    canvas_div.append(rubberband);\n",
       "\n",
       "    this.rubberband = rubberband;\n",
       "    this.rubberband_canvas = rubberband[0];\n",
       "    this.rubberband_context = rubberband[0].getContext(\"2d\");\n",
       "    this.rubberband_context.strokeStyle = \"#000000\";\n",
       "\n",
       "    this._resize_canvas = function(width, height) {\n",
       "        // Keep the size of the canvas, canvas container, and rubber band\n",
       "        // canvas in synch.\n",
       "        canvas_div.css('width', width)\n",
       "        canvas_div.css('height', height)\n",
       "\n",
       "        canvas.attr('width', width * mpl.ratio);\n",
       "        canvas.attr('height', height * mpl.ratio);\n",
       "        canvas.attr('style', 'width: ' + width + 'px; height: ' + height + 'px;');\n",
       "\n",
       "        rubberband.attr('width', width);\n",
       "        rubberband.attr('height', height);\n",
       "    }\n",
       "\n",
       "    // Set the figure to an initial 600x600px, this will subsequently be updated\n",
       "    // upon first draw.\n",
       "    this._resize_canvas(600, 600);\n",
       "\n",
       "    // Disable right mouse context menu.\n",
       "    $(this.rubberband_canvas).bind(\"contextmenu\",function(e){\n",
       "        return false;\n",
       "    });\n",
       "\n",
       "    function set_focus () {\n",
       "        canvas.focus();\n",
       "        canvas_div.focus();\n",
       "    }\n",
       "\n",
       "    window.setTimeout(set_focus, 100);\n",
       "}\n",
       "\n",
       "mpl.figure.prototype._init_toolbar = function() {\n",
       "    var fig = this;\n",
       "\n",
       "    var nav_element = $('<div/>');\n",
       "    nav_element.attr('style', 'width: 100%');\n",
       "    this.root.append(nav_element);\n",
       "\n",
       "    // Define a callback function for later on.\n",
       "    function toolbar_event(event) {\n",
       "        return fig.toolbar_button_onclick(event['data']);\n",
       "    }\n",
       "    function toolbar_mouse_event(event) {\n",
       "        return fig.toolbar_button_onmouseover(event['data']);\n",
       "    }\n",
       "\n",
       "    for(var toolbar_ind in mpl.toolbar_items) {\n",
       "        var name = mpl.toolbar_items[toolbar_ind][0];\n",
       "        var tooltip = mpl.toolbar_items[toolbar_ind][1];\n",
       "        var image = mpl.toolbar_items[toolbar_ind][2];\n",
       "        var method_name = mpl.toolbar_items[toolbar_ind][3];\n",
       "\n",
       "        if (!name) {\n",
       "            // put a spacer in here.\n",
       "            continue;\n",
       "        }\n",
       "        var button = $('<button/>');\n",
       "        button.addClass('ui-button ui-widget ui-state-default ui-corner-all ' +\n",
       "                        'ui-button-icon-only');\n",
       "        button.attr('role', 'button');\n",
       "        button.attr('aria-disabled', 'false');\n",
       "        button.click(method_name, toolbar_event);\n",
       "        button.mouseover(tooltip, toolbar_mouse_event);\n",
       "\n",
       "        var icon_img = $('<span/>');\n",
       "        icon_img.addClass('ui-button-icon-primary ui-icon');\n",
       "        icon_img.addClass(image);\n",
       "        icon_img.addClass('ui-corner-all');\n",
       "\n",
       "        var tooltip_span = $('<span/>');\n",
       "        tooltip_span.addClass('ui-button-text');\n",
       "        tooltip_span.html(tooltip);\n",
       "\n",
       "        button.append(icon_img);\n",
       "        button.append(tooltip_span);\n",
       "\n",
       "        nav_element.append(button);\n",
       "    }\n",
       "\n",
       "    var fmt_picker_span = $('<span/>');\n",
       "\n",
       "    var fmt_picker = $('<select/>');\n",
       "    fmt_picker.addClass('mpl-toolbar-option ui-widget ui-widget-content');\n",
       "    fmt_picker_span.append(fmt_picker);\n",
       "    nav_element.append(fmt_picker_span);\n",
       "    this.format_dropdown = fmt_picker[0];\n",
       "\n",
       "    for (var ind in mpl.extensions) {\n",
       "        var fmt = mpl.extensions[ind];\n",
       "        var option = $(\n",
       "            '<option/>', {selected: fmt === mpl.default_extension}).html(fmt);\n",
       "        fmt_picker.append(option);\n",
       "    }\n",
       "\n",
       "    // Add hover states to the ui-buttons\n",
       "    $( \".ui-button\" ).hover(\n",
       "        function() { $(this).addClass(\"ui-state-hover\");},\n",
       "        function() { $(this).removeClass(\"ui-state-hover\");}\n",
       "    );\n",
       "\n",
       "    var status_bar = $('<span class=\"mpl-message\"/>');\n",
       "    nav_element.append(status_bar);\n",
       "    this.message = status_bar[0];\n",
       "}\n",
       "\n",
       "mpl.figure.prototype.request_resize = function(x_pixels, y_pixels) {\n",
       "    // Request matplotlib to resize the figure. Matplotlib will then trigger a resize in the client,\n",
       "    // which will in turn request a refresh of the image.\n",
       "    this.send_message('resize', {'width': x_pixels, 'height': y_pixels});\n",
       "}\n",
       "\n",
       "mpl.figure.prototype.send_message = function(type, properties) {\n",
       "    properties['type'] = type;\n",
       "    properties['figure_id'] = this.id;\n",
       "    this.ws.send(JSON.stringify(properties));\n",
       "}\n",
       "\n",
       "mpl.figure.prototype.send_draw_message = function() {\n",
       "    if (!this.waiting) {\n",
       "        this.waiting = true;\n",
       "        this.ws.send(JSON.stringify({type: \"draw\", figure_id: this.id}));\n",
       "    }\n",
       "}\n",
       "\n",
       "\n",
       "mpl.figure.prototype.handle_save = function(fig, msg) {\n",
       "    var format_dropdown = fig.format_dropdown;\n",
       "    var format = format_dropdown.options[format_dropdown.selectedIndex].value;\n",
       "    fig.ondownload(fig, format);\n",
       "}\n",
       "\n",
       "\n",
       "mpl.figure.prototype.handle_resize = function(fig, msg) {\n",
       "    var size = msg['size'];\n",
       "    if (size[0] != fig.canvas.width || size[1] != fig.canvas.height) {\n",
       "        fig._resize_canvas(size[0], size[1]);\n",
       "        fig.send_message(\"refresh\", {});\n",
       "    };\n",
       "}\n",
       "\n",
       "mpl.figure.prototype.handle_rubberband = function(fig, msg) {\n",
       "    var x0 = msg['x0'] / mpl.ratio;\n",
       "    var y0 = (fig.canvas.height - msg['y0']) / mpl.ratio;\n",
       "    var x1 = msg['x1'] / mpl.ratio;\n",
       "    var y1 = (fig.canvas.height - msg['y1']) / mpl.ratio;\n",
       "    x0 = Math.floor(x0) + 0.5;\n",
       "    y0 = Math.floor(y0) + 0.5;\n",
       "    x1 = Math.floor(x1) + 0.5;\n",
       "    y1 = Math.floor(y1) + 0.5;\n",
       "    var min_x = Math.min(x0, x1);\n",
       "    var min_y = Math.min(y0, y1);\n",
       "    var width = Math.abs(x1 - x0);\n",
       "    var height = Math.abs(y1 - y0);\n",
       "\n",
       "    fig.rubberband_context.clearRect(\n",
       "        0, 0, fig.canvas.width / mpl.ratio, fig.canvas.height / mpl.ratio);\n",
       "\n",
       "    fig.rubberband_context.strokeRect(min_x, min_y, width, height);\n",
       "}\n",
       "\n",
       "mpl.figure.prototype.handle_figure_label = function(fig, msg) {\n",
       "    // Updates the figure title.\n",
       "    fig.header.textContent = msg['label'];\n",
       "}\n",
       "\n",
       "mpl.figure.prototype.handle_cursor = function(fig, msg) {\n",
       "    var cursor = msg['cursor'];\n",
       "    switch(cursor)\n",
       "    {\n",
       "    case 0:\n",
       "        cursor = 'pointer';\n",
       "        break;\n",
       "    case 1:\n",
       "        cursor = 'default';\n",
       "        break;\n",
       "    case 2:\n",
       "        cursor = 'crosshair';\n",
       "        break;\n",
       "    case 3:\n",
       "        cursor = 'move';\n",
       "        break;\n",
       "    }\n",
       "    fig.rubberband_canvas.style.cursor = cursor;\n",
       "}\n",
       "\n",
       "mpl.figure.prototype.handle_message = function(fig, msg) {\n",
       "    fig.message.textContent = msg['message'];\n",
       "}\n",
       "\n",
       "mpl.figure.prototype.handle_draw = function(fig, msg) {\n",
       "    // Request the server to send over a new figure.\n",
       "    fig.send_draw_message();\n",
       "}\n",
       "\n",
       "mpl.figure.prototype.handle_image_mode = function(fig, msg) {\n",
       "    fig.image_mode = msg['mode'];\n",
       "}\n",
       "\n",
       "mpl.figure.prototype.updated_canvas_event = function() {\n",
       "    // Called whenever the canvas gets updated.\n",
       "    this.send_message(\"ack\", {});\n",
       "}\n",
       "\n",
       "// A function to construct a web socket function for onmessage handling.\n",
       "// Called in the figure constructor.\n",
       "mpl.figure.prototype._make_on_message_function = function(fig) {\n",
       "    return function socket_on_message(evt) {\n",
       "        if (evt.data instanceof Blob) {\n",
       "            /* FIXME: We get \"Resource interpreted as Image but\n",
       "             * transferred with MIME type text/plain:\" errors on\n",
       "             * Chrome.  But how to set the MIME type?  It doesn't seem\n",
       "             * to be part of the websocket stream */\n",
       "            evt.data.type = \"image/png\";\n",
       "\n",
       "            /* Free the memory for the previous frames */\n",
       "            if (fig.imageObj.src) {\n",
       "                (window.URL || window.webkitURL).revokeObjectURL(\n",
       "                    fig.imageObj.src);\n",
       "            }\n",
       "\n",
       "            fig.imageObj.src = (window.URL || window.webkitURL).createObjectURL(\n",
       "                evt.data);\n",
       "            fig.updated_canvas_event();\n",
       "            fig.waiting = false;\n",
       "            return;\n",
       "        }\n",
       "        else if (typeof evt.data === 'string' && evt.data.slice(0, 21) == \"data:image/png;base64\") {\n",
       "            fig.imageObj.src = evt.data;\n",
       "            fig.updated_canvas_event();\n",
       "            fig.waiting = false;\n",
       "            return;\n",
       "        }\n",
       "\n",
       "        var msg = JSON.parse(evt.data);\n",
       "        var msg_type = msg['type'];\n",
       "\n",
       "        // Call the  \"handle_{type}\" callback, which takes\n",
       "        // the figure and JSON message as its only arguments.\n",
       "        try {\n",
       "            var callback = fig[\"handle_\" + msg_type];\n",
       "        } catch (e) {\n",
       "            console.log(\"No handler for the '\" + msg_type + \"' message type: \", msg);\n",
       "            return;\n",
       "        }\n",
       "\n",
       "        if (callback) {\n",
       "            try {\n",
       "                // console.log(\"Handling '\" + msg_type + \"' message: \", msg);\n",
       "                callback(fig, msg);\n",
       "            } catch (e) {\n",
       "                console.log(\"Exception inside the 'handler_\" + msg_type + \"' callback:\", e, e.stack, msg);\n",
       "            }\n",
       "        }\n",
       "    };\n",
       "}\n",
       "\n",
       "// from http://stackoverflow.com/questions/1114465/getting-mouse-location-in-canvas\n",
       "mpl.findpos = function(e) {\n",
       "    //this section is from http://www.quirksmode.org/js/events_properties.html\n",
       "    var targ;\n",
       "    if (!e)\n",
       "        e = window.event;\n",
       "    if (e.target)\n",
       "        targ = e.target;\n",
       "    else if (e.srcElement)\n",
       "        targ = e.srcElement;\n",
       "    if (targ.nodeType == 3) // defeat Safari bug\n",
       "        targ = targ.parentNode;\n",
       "\n",
       "    // jQuery normalizes the pageX and pageY\n",
       "    // pageX,Y are the mouse positions relative to the document\n",
       "    // offset() returns the position of the element relative to the document\n",
       "    var x = e.pageX - $(targ).offset().left;\n",
       "    var y = e.pageY - $(targ).offset().top;\n",
       "\n",
       "    return {\"x\": x, \"y\": y};\n",
       "};\n",
       "\n",
       "/*\n",
       " * return a copy of an object with only non-object keys\n",
       " * we need this to avoid circular references\n",
       " * http://stackoverflow.com/a/24161582/3208463\n",
       " */\n",
       "function simpleKeys (original) {\n",
       "  return Object.keys(original).reduce(function (obj, key) {\n",
       "    if (typeof original[key] !== 'object')\n",
       "        obj[key] = original[key]\n",
       "    return obj;\n",
       "  }, {});\n",
       "}\n",
       "\n",
       "mpl.figure.prototype.mouse_event = function(event, name) {\n",
       "    var canvas_pos = mpl.findpos(event)\n",
       "\n",
       "    if (name === 'button_press')\n",
       "    {\n",
       "        this.canvas.focus();\n",
       "        this.canvas_div.focus();\n",
       "    }\n",
       "\n",
       "    var x = canvas_pos.x * mpl.ratio;\n",
       "    var y = canvas_pos.y * mpl.ratio;\n",
       "\n",
       "    this.send_message(name, {x: x, y: y, button: event.button,\n",
       "                             step: event.step,\n",
       "                             guiEvent: simpleKeys(event)});\n",
       "\n",
       "    /* This prevents the web browser from automatically changing to\n",
       "     * the text insertion cursor when the button is pressed.  We want\n",
       "     * to control all of the cursor setting manually through the\n",
       "     * 'cursor' event from matplotlib */\n",
       "    event.preventDefault();\n",
       "    return false;\n",
       "}\n",
       "\n",
       "mpl.figure.prototype._key_event_extra = function(event, name) {\n",
       "    // Handle any extra behaviour associated with a key event\n",
       "}\n",
       "\n",
       "mpl.figure.prototype.key_event = function(event, name) {\n",
       "\n",
       "    // Prevent repeat events\n",
       "    if (name == 'key_press')\n",
       "    {\n",
       "        if (event.which === this._key)\n",
       "            return;\n",
       "        else\n",
       "            this._key = event.which;\n",
       "    }\n",
       "    if (name == 'key_release')\n",
       "        this._key = null;\n",
       "\n",
       "    var value = '';\n",
       "    if (event.ctrlKey && event.which != 17)\n",
       "        value += \"ctrl+\";\n",
       "    if (event.altKey && event.which != 18)\n",
       "        value += \"alt+\";\n",
       "    if (event.shiftKey && event.which != 16)\n",
       "        value += \"shift+\";\n",
       "\n",
       "    value += 'k';\n",
       "    value += event.which.toString();\n",
       "\n",
       "    this._key_event_extra(event, name);\n",
       "\n",
       "    this.send_message(name, {key: value,\n",
       "                             guiEvent: simpleKeys(event)});\n",
       "    return false;\n",
       "}\n",
       "\n",
       "mpl.figure.prototype.toolbar_button_onclick = function(name) {\n",
       "    if (name == 'download') {\n",
       "        this.handle_save(this, null);\n",
       "    } else {\n",
       "        this.send_message(\"toolbar_button\", {name: name});\n",
       "    }\n",
       "};\n",
       "\n",
       "mpl.figure.prototype.toolbar_button_onmouseover = function(tooltip) {\n",
       "    this.message.textContent = tooltip;\n",
       "};\n",
       "mpl.toolbar_items = [[\"Home\", \"Reset original view\", \"fa fa-home icon-home\", \"home\"], [\"Back\", \"Back to previous view\", \"fa fa-arrow-left icon-arrow-left\", \"back\"], [\"Forward\", \"Forward to next view\", \"fa fa-arrow-right icon-arrow-right\", \"forward\"], [\"\", \"\", \"\", \"\"], [\"Pan\", \"Pan axes with left mouse, zoom with right\", \"fa fa-arrows icon-move\", \"pan\"], [\"Zoom\", \"Zoom to rectangle\", \"fa fa-square-o icon-check-empty\", \"zoom\"], [\"\", \"\", \"\", \"\"], [\"Download\", \"Download plot\", \"fa fa-floppy-o icon-save\", \"download\"]];\n",
       "\n",
       "mpl.extensions = [\"eps\", \"jpeg\", \"pdf\", \"png\", \"ps\", \"raw\", \"svg\", \"tif\"];\n",
       "\n",
       "mpl.default_extension = \"png\";var comm_websocket_adapter = function(comm) {\n",
       "    // Create a \"websocket\"-like object which calls the given IPython comm\n",
       "    // object with the appropriate methods. Currently this is a non binary\n",
       "    // socket, so there is still some room for performance tuning.\n",
       "    var ws = {};\n",
       "\n",
       "    ws.close = function() {\n",
       "        comm.close()\n",
       "    };\n",
       "    ws.send = function(m) {\n",
       "        //console.log('sending', m);\n",
       "        comm.send(m);\n",
       "    };\n",
       "    // Register the callback with on_msg.\n",
       "    comm.on_msg(function(msg) {\n",
       "        //console.log('receiving', msg['content']['data'], msg);\n",
       "        // Pass the mpl event to the overridden (by mpl) onmessage function.\n",
       "        ws.onmessage(msg['content']['data'])\n",
       "    });\n",
       "    return ws;\n",
       "}\n",
       "\n",
       "mpl.mpl_figure_comm = function(comm, msg) {\n",
       "    // This is the function which gets called when the mpl process\n",
       "    // starts-up an IPython Comm through the \"matplotlib\" channel.\n",
       "\n",
       "    var id = msg.content.data.id;\n",
       "    // Get hold of the div created by the display call when the Comm\n",
       "    // socket was opened in Python.\n",
       "    var element = $(\"#\" + id);\n",
       "    var ws_proxy = comm_websocket_adapter(comm)\n",
       "\n",
       "    function ondownload(figure, format) {\n",
       "        window.open(figure.imageObj.src);\n",
       "    }\n",
       "\n",
       "    var fig = new mpl.figure(id, ws_proxy,\n",
       "                           ondownload,\n",
       "                           element.get(0));\n",
       "\n",
       "    // Call onopen now - mpl needs it, as it is assuming we've passed it a real\n",
       "    // web socket which is closed, not our websocket->open comm proxy.\n",
       "    ws_proxy.onopen();\n",
       "\n",
       "    fig.parent_element = element.get(0);\n",
       "    fig.cell_info = mpl.find_output_cell(\"<div id='\" + id + \"'></div>\");\n",
       "    if (!fig.cell_info) {\n",
       "        console.error(\"Failed to find cell for figure\", id, fig);\n",
       "        return;\n",
       "    }\n",
       "\n",
       "    var output_index = fig.cell_info[2]\n",
       "    var cell = fig.cell_info[0];\n",
       "\n",
       "};\n",
       "\n",
       "mpl.figure.prototype.handle_close = function(fig, msg) {\n",
       "    var width = fig.canvas.width/mpl.ratio\n",
       "    fig.root.unbind('remove')\n",
       "\n",
       "    // Update the output cell to use the data from the current canvas.\n",
       "    fig.push_to_output();\n",
       "    var dataURL = fig.canvas.toDataURL();\n",
       "    // Re-enable the keyboard manager in IPython - without this line, in FF,\n",
       "    // the notebook keyboard shortcuts fail.\n",
       "    IPython.keyboard_manager.enable()\n",
       "    $(fig.parent_element).html('<img src=\"' + dataURL + '\" width=\"' + width + '\">');\n",
       "    fig.close_ws(fig, msg);\n",
       "}\n",
       "\n",
       "mpl.figure.prototype.close_ws = function(fig, msg){\n",
       "    fig.send_message('closing', msg);\n",
       "    // fig.ws.close()\n",
       "}\n",
       "\n",
       "mpl.figure.prototype.push_to_output = function(remove_interactive) {\n",
       "    // Turn the data on the canvas into data in the output cell.\n",
       "    var width = this.canvas.width/mpl.ratio\n",
       "    var dataURL = this.canvas.toDataURL();\n",
       "    this.cell_info[1]['text/html'] = '<img src=\"' + dataURL + '\" width=\"' + width + '\">';\n",
       "}\n",
       "\n",
       "mpl.figure.prototype.updated_canvas_event = function() {\n",
       "    // Tell IPython that the notebook contents must change.\n",
       "    IPython.notebook.set_dirty(true);\n",
       "    this.send_message(\"ack\", {});\n",
       "    var fig = this;\n",
       "    // Wait a second, then push the new image to the DOM so\n",
       "    // that it is saved nicely (might be nice to debounce this).\n",
       "    setTimeout(function () { fig.push_to_output() }, 1000);\n",
       "}\n",
       "\n",
       "mpl.figure.prototype._init_toolbar = function() {\n",
       "    var fig = this;\n",
       "\n",
       "    var nav_element = $('<div/>');\n",
       "    nav_element.attr('style', 'width: 100%');\n",
       "    this.root.append(nav_element);\n",
       "\n",
       "    // Define a callback function for later on.\n",
       "    function toolbar_event(event) {\n",
       "        return fig.toolbar_button_onclick(event['data']);\n",
       "    }\n",
       "    function toolbar_mouse_event(event) {\n",
       "        return fig.toolbar_button_onmouseover(event['data']);\n",
       "    }\n",
       "\n",
       "    for(var toolbar_ind in mpl.toolbar_items){\n",
       "        var name = mpl.toolbar_items[toolbar_ind][0];\n",
       "        var tooltip = mpl.toolbar_items[toolbar_ind][1];\n",
       "        var image = mpl.toolbar_items[toolbar_ind][2];\n",
       "        var method_name = mpl.toolbar_items[toolbar_ind][3];\n",
       "\n",
       "        if (!name) { continue; };\n",
       "\n",
       "        var button = $('<button class=\"btn btn-default\" href=\"#\" title=\"' + name + '\"><i class=\"fa ' + image + ' fa-lg\"></i></button>');\n",
       "        button.click(method_name, toolbar_event);\n",
       "        button.mouseover(tooltip, toolbar_mouse_event);\n",
       "        nav_element.append(button);\n",
       "    }\n",
       "\n",
       "    // Add the status bar.\n",
       "    var status_bar = $('<span class=\"mpl-message\" style=\"text-align:right; float: right;\"/>');\n",
       "    nav_element.append(status_bar);\n",
       "    this.message = status_bar[0];\n",
       "\n",
       "    // Add the close button to the window.\n",
       "    var buttongrp = $('<div class=\"btn-group inline pull-right\"></div>');\n",
       "    var button = $('<button class=\"btn btn-mini btn-primary\" href=\"#\" title=\"Stop Interaction\"><i class=\"fa fa-power-off icon-remove icon-large\"></i></button>');\n",
       "    button.click(function (evt) { fig.handle_close(fig, {}); } );\n",
       "    button.mouseover('Stop Interaction', toolbar_mouse_event);\n",
       "    buttongrp.append(button);\n",
       "    var titlebar = this.root.find($('.ui-dialog-titlebar'));\n",
       "    titlebar.prepend(buttongrp);\n",
       "}\n",
       "\n",
       "mpl.figure.prototype._root_extra_style = function(el){\n",
       "    var fig = this\n",
       "    el.on(\"remove\", function(){\n",
       "\tfig.close_ws(fig, {});\n",
       "    });\n",
       "}\n",
       "\n",
       "mpl.figure.prototype._canvas_extra_style = function(el){\n",
       "    // this is important to make the div 'focusable\n",
       "    el.attr('tabindex', 0)\n",
       "    // reach out to IPython and tell the keyboard manager to turn it's self\n",
       "    // off when our div gets focus\n",
       "\n",
       "    // location in version 3\n",
       "    if (IPython.notebook.keyboard_manager) {\n",
       "        IPython.notebook.keyboard_manager.register_events(el);\n",
       "    }\n",
       "    else {\n",
       "        // location in version 2\n",
       "        IPython.keyboard_manager.register_events(el);\n",
       "    }\n",
       "\n",
       "}\n",
       "\n",
       "mpl.figure.prototype._key_event_extra = function(event, name) {\n",
       "    var manager = IPython.notebook.keyboard_manager;\n",
       "    if (!manager)\n",
       "        manager = IPython.keyboard_manager;\n",
       "\n",
       "    // Check for shift+enter\n",
       "    if (event.shiftKey && event.which == 13) {\n",
       "        this.canvas_div.blur();\n",
       "        // select the cell after this one\n",
       "        var index = IPython.notebook.find_cell_index(this.cell_info[0]);\n",
       "        IPython.notebook.select(index + 1);\n",
       "    }\n",
       "}\n",
       "\n",
       "mpl.figure.prototype.handle_save = function(fig, msg) {\n",
       "    fig.ondownload(fig, null);\n",
       "}\n",
       "\n",
       "\n",
       "mpl.find_output_cell = function(html_output) {\n",
       "    // Return the cell and output element which can be found *uniquely* in the notebook.\n",
       "    // Note - this is a bit hacky, but it is done because the \"notebook_saving.Notebook\"\n",
       "    // IPython event is triggered only after the cells have been serialised, which for\n",
       "    // our purposes (turning an active figure into a static one), is too late.\n",
       "    var cells = IPython.notebook.get_cells();\n",
       "    var ncells = cells.length;\n",
       "    for (var i=0; i<ncells; i++) {\n",
       "        var cell = cells[i];\n",
       "        if (cell.cell_type === 'code'){\n",
       "            for (var j=0; j<cell.output_area.outputs.length; j++) {\n",
       "                var data = cell.output_area.outputs[j];\n",
       "                if (data.data) {\n",
       "                    // IPython >= 3 moved mimebundle to data attribute of output\n",
       "                    data = data.data;\n",
       "                }\n",
       "                if (data['text/html'] == html_output) {\n",
       "                    return [cell, data, j];\n",
       "                }\n",
       "            }\n",
       "        }\n",
       "    }\n",
       "}\n",
       "\n",
       "// Register the function which deals with the matplotlib target/channel.\n",
       "// The kernel may be null if the page has been refreshed.\n",
       "if (IPython.notebook.kernel != null) {\n",
       "    IPython.notebook.kernel.comm_manager.register_target('matplotlib', mpl.mpl_figure_comm);\n",
       "}\n"
      ],
      "text/plain": [
       "<IPython.core.display.Javascript object>"
      ]
     },
     "metadata": {},
     "output_type": "display_data"
    },
    {
     "data": {
      "text/html": [
       "<img src=\"data:image/png;base64,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\" width=\"600\">"
      ],
      "text/plain": [
       "<IPython.core.display.HTML object>"
      ]
     },
     "metadata": {},
     "output_type": "display_data"
    },
    {
     "data": {
      "text/plain": [
       "<matplotlib.legend.Legend at 0x7f9ac11f9a10>"
      ]
     },
     "execution_count": 77,
     "metadata": {},
     "output_type": "execute_result"
    }
   ],
   "source": [
    "fig = plt.figure(figsize=(5,5),dpi=120)\n",
    "ax = plt.subplot(111, projection='3d')\n",
    "ax.scatter(X[:,0], X[:,1], X[:,2].astype('float'), c=Y, s=X[:,3].astype(float)*10, edgecolor='k', alpha=0.4,label='Grade')\n",
    "ax.set_facecolor('white')\n",
    "\n",
    "Y_cap = model.predict(X)\n",
    "\n",
    "for i, x in enumerate(Y_cap != Y):\n",
    "    if x:\n",
    "        ax.scatter(X[i, 0], X[i, 1],  X[i, 2],\n",
    "                   s=X[i, 3]*12, edgecolor='k',\n",
    "                   c='k')\n",
    "plt.tight_layout()\n",
    "plt.legend()"
   ]
  },
  {
   "cell_type": "code",
   "execution_count": null,
   "metadata": {},
   "outputs": [],
   "source": []
  }
 ],
 "metadata": {
  "kernelspec": {
   "display_name": "Python 3",
   "language": "python",
   "name": "python3"
  },
  "language_info": {
   "codemirror_mode": {
    "name": "ipython",
    "version": 3
   },
   "file_extension": ".py",
   "mimetype": "text/x-python",
   "name": "python",
   "nbconvert_exporter": "python",
   "pygments_lexer": "ipython3",
   "version": "3.7.7"
  }
 },
 "nbformat": 4,
 "nbformat_minor": 2
}
